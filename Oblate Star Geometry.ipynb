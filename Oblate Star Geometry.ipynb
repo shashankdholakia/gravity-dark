{
 "cells": [
  {
   "cell_type": "code",
   "execution_count": 49,
   "metadata": {},
   "outputs": [],
   "source": [
    "import sympy as sp\n",
    "from sympy import symbols, sin, cos, Matrix, Eq, Rational, floor, sqrt\n",
    "from sympy import simplify, factorial, pi, binomial, factor, expand, collect\n",
    "from sympy.functions.special.tensor_functions import KroneckerDelta\n",
    "from sympy import init_printing\n",
    "import matplotlib.pyplot as plt\n",
    "import numpy as np\n",
    "from ipywidgets import *\n",
    "import pandas as pd\n",
    "from sympy import latex\n",
    "from scipy.optimize import curve_fit\n",
    "from IPython.display import display, Math"
   ]
  },
  {
   "cell_type": "markdown",
   "metadata": {},
   "source": [
    "## Oblateness as a function of angluar velocity:\n",
    "\n",
    "We have used f as an oblateness factor in other places, which is the effective oblateness of the star, agnostic of its rotation rate or other factors. However, we would like to know if we can find the oblateness of the star as a function of its rotation rate. \n",
    "\n",
    "\n",
    "According to [Bouvier et al. 2013](https://arxiv.org/pdf/1307.2891.pdf), the radius of a star can be written as a function of $\\omega$ using the following relation (according to the Roche model for stellar equipotential surfaces):\n",
    "\n",
    "$$R_{eq} = \\frac{3 R_{polar} \\cos{\\left(\\frac{\\operatorname{arccos}{\\left(\\omega \\right)}}{3} + \\frac{\\pi}{3} \\right)}}{\\omega}$$\n",
    "\n",
    "b is defined as $\\frac{R_{polar}}{R_{eq}}$, so we can write f as a function of omega as follows:"
   ]
  },
  {
   "cell_type": "code",
   "execution_count": 14,
   "metadata": {},
   "outputs": [
    {
     "data": {
      "text/latex": [
       "$\\displaystyle f = - \\frac{\\omega}{3 \\sin{\\left(\\frac{\\operatorname{asin}{\\left(\\omega \\right)}}{3} \\right)}} + 1$"
      ],
      "text/plain": [
       "<IPython.core.display.Math object>"
      ]
     },
     "metadata": {},
     "output_type": "display_data"
    }
   ],
   "source": [
    "omega = sp.symbols(\n",
    "    \"omega\"\n",
    "    ,real=True,positive=True)\n",
    "f_omega = sp.simplify((omega/3) / sin((sp.asin(omega))/3))\n",
    "display(Math(r'f = ' + latex(1 - f_omega)))"
   ]
  },
  {
   "cell_type": "markdown",
   "metadata": {},
   "source": [
    "## Von Zeipel's Law for an oblate star:"
   ]
  },
  {
   "cell_type": "code",
   "execution_count": 15,
   "metadata": {},
   "outputs": [
    {
     "data": {
      "text/latex": [
       "$\\displaystyle \\vec{g} = \\left[\\begin{matrix}- \\frac{G M x_{0}}{\\left(x_{0}^{2} + y_{0}^{2} + z_{0}^{2}\\right)^{\\frac{3}{2}}} + \\Omega^{2} x_{0}\\\\- \\frac{G M y_{0}}{\\left(x_{0}^{2} + y_{0}^{2} + z_{0}^{2}\\right)^{\\frac{3}{2}}}\\\\- \\frac{G M z_{0}}{\\left(x_{0}^{2} + y_{0}^{2} + z_{0}^{2}\\right)^{\\frac{3}{2}}} + \\Omega^{2} z_{0}\\end{matrix}\\right]$"
      ],
      "text/plain": [
       "<IPython.core.display.Math object>"
      ]
     },
     "metadata": {},
     "output_type": "display_data"
    }
   ],
   "source": [
    "x0, y0, z0= sp.symbols(\"x0 y0 z0\",real=True,positive=True) #can switch positive=True off, but sympy simplifies better\n",
    "Omega, R, R_perp, G, M, beta, T_pole, g_pole = sp.symbols(\n",
    "    \"Omega R R_perp G M beta T_pole g_pole\"\n",
    "    ,real=True,positive=True)\n",
    "R = sqrt(x0**2+y0**2+z0**2)\n",
    "R_perp = sqrt(x0**2+z0**2)\n",
    "R_vec = Matrix([x0/R,y0/R,z0/R])\n",
    "R_perpvec = Matrix([x0/R_perp,0,  z0/R_perp])\n",
    "g_vec = -(G*M/R**2)*R_vec + Omega**2*R_perp*R_perpvec\n",
    "display(Math(r'\\vec{g} = '+latex(g_vec)))"
   ]
  },
  {
   "cell_type": "markdown",
   "metadata": {},
   "source": [
    "Again, $\\Omega$, the angular rotational velocity, can be written as a dimensionless variable $\\omega$ based on the prescription ([from Lara & Rieutord 2011](https://arxiv.org/abs/1109.3038)): $$ \\omega = \\Omega \\sqrt{\\frac{R_{eq}^3}{GM}}$$"
   ]
  },
  {
   "cell_type": "code",
   "execution_count": 28,
   "metadata": {},
   "outputs": [
    {
     "data": {
      "text/latex": [
       "$\\displaystyle \\vec{g} = \\left[\\begin{matrix}- \\frac{G M x_{0}}{\\left(x_{0}^{2} + y_{0}^{2} + z_{0}^{2}\\right)^{\\frac{3}{2}}} + \\frac{G M \\omega^{2} x_{0}}{R_{eq}^{3}}\\\\- \\frac{G M y_{0}}{\\left(x_{0}^{2} + y_{0}^{2} + z_{0}^{2}\\right)^{\\frac{3}{2}}}\\\\- \\frac{G M z_{0}}{\\left(x_{0}^{2} + y_{0}^{2} + z_{0}^{2}\\right)^{\\frac{3}{2}}} + \\frac{G M \\omega^{2} z_{0}}{R_{eq}^{3}}\\end{matrix}\\right]$"
      ],
      "text/plain": [
       "<IPython.core.display.Math object>"
      ]
     },
     "metadata": {},
     "output_type": "display_data"
    }
   ],
   "source": [
    "R_eq, omega, b = sp.symbols(\"R_eq, omega, b\",positive=True,real=True)\n",
    "g_vec = g_vec.subs([(Omega,omega*sqrt(G*M/R_eq**3))])\n",
    "display(Math(r'\\vec{g} = ' + latex(g_vec)))"
   ]
  },
  {
   "cell_type": "markdown",
   "metadata": {},
   "source": [
    "Writing this into Von Zeipel's Law:"
   ]
  },
  {
   "cell_type": "code",
   "execution_count": 29,
   "metadata": {},
   "outputs": [
    {
     "data": {
      "text/latex": [
       "$\\displaystyle T = T_{pole} \\left(\\frac{R_{eq}^{2} b^{2} \\sqrt{\\frac{G^{2} M^{2} y_{0}^{2}}{\\left(x_{0}^{2} + y_{0}^{2} + z_{0}^{2}\\right)^{3}} + \\left(\\frac{G M x_{0}}{\\left(x_{0}^{2} + y_{0}^{2} + z_{0}^{2}\\right)^{\\frac{3}{2}}} - \\frac{G M \\omega^{2} x_{0}}{R_{eq}^{3}}\\right)^{2} + \\left(\\frac{G M z_{0}}{\\left(x_{0}^{2} + y_{0}^{2} + z_{0}^{2}\\right)^{\\frac{3}{2}}} - \\frac{G M \\omega^{2} z_{0}}{R_{eq}^{3}}\\right)^{2}}}{G M}\\right)^{\\beta}$"
      ],
      "text/plain": [
       "<IPython.core.display.Math object>"
      ]
     },
     "metadata": {},
     "output_type": "display_data"
    }
   ],
   "source": [
    "g_pole = g_vec.subs([(x0,0),(y0,R_eq*b),(z0,0)])\n",
    "T = T_pole * (g_vec.norm()/g_pole.norm())**beta\n",
    "display(Math('T = ' + latex(T)))"
   ]
  },
  {
   "cell_type": "code",
   "execution_count": 50,
   "metadata": {},
   "outputs": [
    {
     "data": {
      "text/latex": [
       "$\\displaystyle \\frac{G M}{R_{eq}^{2} b^{2}}$"
      ],
      "text/plain": [
       "G*M/(R_eq**2*b**2)"
      ]
     },
     "execution_count": 50,
     "metadata": {},
     "output_type": "execute_result"
    }
   ],
   "source": [
    "g_pole.norm()"
   ]
  },
  {
   "cell_type": "code",
   "execution_count": 51,
   "metadata": {},
   "outputs": [
    {
     "data": {
      "text/latex": [
       "$\\displaystyle T = T_{pole} \\left(\\frac{b \\sqrt{\\frac{R_{eq}^{6} b^{8} y_{0}^{2} + b^{2} x_{0}^{2} \\left(R_{eq}^{3} b^{3} - \\omega^{2} \\left(b^{2} \\left(R_{eq}^{2} + y_{0}^{2}\\right) - y_{0}^{2}\\right)^{\\frac{3}{2}}\\right)^{2} + \\left(R_{eq}^{3} b^{3} - \\omega^{2} \\left(b^{2} \\left(R_{eq}^{2} + y_{0}^{2}\\right) - y_{0}^{2}\\right)^{\\frac{3}{2}}\\right)^{2} \\left(b^{2} \\left(R_{eq}^{2} - x_{0}^{2}\\right) - y_{0}^{2}\\right)}{\\left(b^{2} \\left(R_{eq}^{2} + y_{0}^{2}\\right) - y_{0}^{2}\\right)^{3}}}}{R_{eq}}\\right)^{\\beta}$"
      ],
      "text/plain": [
       "<IPython.core.display.Math object>"
      ]
     },
     "metadata": {},
     "output_type": "display_data"
    }
   ],
   "source": [
    "T_simp = (T_pole * (simplify(g_vec.norm().subs([(z0,sqrt(R_eq**2 - x0**2 - (y0/b)**2))]))/g_pole.norm())**beta)\n",
    "display(Math('T = ' + latex(T_simp)))"
   ]
  },
  {
   "cell_type": "markdown",
   "metadata": {},
   "source": [
    "Assuming a spherical star, the equation for the star's photosphere would be: \n",
    "$$ x_0^2 + y_0^2 +z_0^2 = R_{eq}^2$$\n",
    "\n",
    "From [Barnes et al. 2009](https://arxiv.org/pdf/0909.1752.pdf):\n",
    "\n",
    "However, the star is actually oblate, so let's add the oblateness factor f in:\n",
    "\n",
    "$$ x_0^2 + \\left(\\frac{y_0}{1-f}\\right)^2 +z_0^2 = R_{eq}^2$$\n",
    "\n",
    "In addition, the star could be angled by a stellar inclination of $\\varphi$.\n",
    "\n",
    "The rotation matrix for this is:"
   ]
  },
  {
   "cell_type": "code",
   "execution_count": 66,
   "metadata": {},
   "outputs": [
    {
     "data": {
      "text/latex": [
       "$\\displaystyle \\vec{x_0} = \\left[\\begin{matrix}1 & 0 & 0\\\\0 & \\cos{\\left(\\varphi \\right)} & \\sin{\\left(\\varphi \\right)}\\\\0 & - \\sin{\\left(\\varphi \\right)} & \\cos{\\left(\\varphi \\right)}\\end{matrix}\\right]\\vec{x}$"
      ],
      "text/plain": [
       "<IPython.core.display.Math object>"
      ]
     },
     "metadata": {},
     "output_type": "display_data"
    }
   ],
   "source": [
    "varphi = sp.symbols('varphi', real=True, positive=True)\n",
    "rot = Matrix([[1,0,0],[0,cos(varphi),sin(varphi)],[0,-sin(varphi),cos(varphi)]])\n",
    "display(Math(r'\\vec{x_0} = ' + latex(rot)+r'\\vec{x}'))"
   ]
  },
  {
   "cell_type": "markdown",
   "metadata": {},
   "source": [
    "When we plug in the \"true\" coordinates x, y, and z into this rotation matrix we get:"
   ]
  },
  {
   "cell_type": "code",
   "execution_count": 67,
   "metadata": {},
   "outputs": [
    {
     "data": {
      "text/latex": [
       "$\\displaystyle \\begin{bmatrix}x_0\\\\y_0\\\\z_0\\end{bmatrix} = \\left[\\begin{matrix}x\\\\y \\cos{\\left(\\varphi \\right)} + z \\sin{\\left(\\varphi \\right)}\\\\- y \\sin{\\left(\\varphi \\right)} + z \\cos{\\left(\\varphi \\right)}\\end{matrix}\\right]$"
      ],
      "text/plain": [
       "<IPython.core.display.Math object>"
      ]
     },
     "metadata": {},
     "output_type": "display_data"
    }
   ],
   "source": [
    "x, y, z = sp.symbols('x, y, z', real=True,positive=True) #can switch positive=True off, but sympy simplifies better\n",
    "x_vec = Matrix([x,y,z])\n",
    "x0_vec = Matrix([rot.row(0).dot(x_vec),rot.row(1).dot(x_vec),rot.row(2).dot(x_vec)])\n",
    "display(Math(r'\\begin{bmatrix}x_0\\\\y_0\\\\z_0\\end{bmatrix} = ' + latex(x0_vec)))"
   ]
  },
  {
   "cell_type": "markdown",
   "metadata": {},
   "source": [
    "In the simple spherical case the surface of the star can be modeled as a function of x and y alone:  $$z(x, y) = \\sqrt{R_{eq}^2 - x^2 -y^2}$$.\n",
    "\n",
    "Due to the oblateness, however, things are more complicated, and z(x, y) must also include $\\varphi$ and $f$. This can be found (in the same way as Barnes et al. 2009), by solving the quadratic equation:"
   ]
  },
  {
   "cell_type": "code",
   "execution_count": 90,
   "metadata": {},
   "outputs": [
    {
     "data": {
      "text/latex": [
       "$\\displaystyle z = \\frac{- b \\sqrt{R_{eq}^{2} b^{2} \\cos^{2}{\\left(\\varphi \\right)} - R_{eq}^{2} \\cos^{2}{\\left(\\varphi \\right)} + R_{eq}^{2} - b^{2} x^{2} \\cos^{2}{\\left(\\varphi \\right)} + x^{2} \\cos^{2}{\\left(\\varphi \\right)} - x^{2} - y^{2}} + \\frac{y \\left(b - 1\\right) \\left(b + 1\\right) \\sin{\\left(2 \\varphi \\right)}}{2}}{b^{2} \\cos^{2}{\\left(\\varphi \\right)} + \\sin^{2}{\\left(\\varphi \\right)}}$"
      ],
      "text/plain": [
       "<IPython.core.display.Math object>"
      ]
     },
     "metadata": {},
     "output_type": "display_data"
    }
   ],
   "source": [
    "x, y, z= sp.symbols(\"x y z\",real=True,positive=True) #can switch positive=True off, but sympy simplifies better\n",
    "\n",
    "z_soln = sp.solvers.solve(x**2 + ((y*cos(varphi) + z*sin(varphi))/b)**2 + (-y*sin(varphi) + z*cos(varphi))**2 - R_eq**2, z)[0]\n",
    "z_soln = sp.simplify(z_soln)\n",
    "display(Math(r'z = ' + latex(z_soln)))"
   ]
  },
  {
   "cell_type": "code",
   "execution_count": 91,
   "metadata": {},
   "outputs": [
    {
     "data": {
      "text/latex": [
       "$\\displaystyle - b \\sqrt{R_{eq}^{2} - x^{2} - y^{2}}$"
      ],
      "text/plain": [
       "-b*sqrt(R_eq**2 - x**2 - y**2)"
      ]
     },
     "execution_count": 91,
     "metadata": {},
     "output_type": "execute_result"
    }
   ],
   "source": [
    "z_soln.subs([(varphi,pi/2)])"
   ]
  },
  {
   "cell_type": "code",
   "execution_count": 92,
   "metadata": {},
   "outputs": [
    {
     "data": {
      "text/latex": [
       "$\\displaystyle T_{pole} \\left(\\frac{b \\sqrt{\\frac{R_{eq}^{6} b^{8} y_{0}^{2} + b^{2} x_{0}^{2} \\left(R_{eq}^{3} b^{3} - \\omega^{2} \\left(b^{2} \\left(R_{eq}^{2} + y_{0}^{2}\\right) - y_{0}^{2}\\right)^{\\frac{3}{2}}\\right)^{2} + \\left(R_{eq}^{3} b^{3} - \\omega^{2} \\left(b^{2} \\left(R_{eq}^{2} + y_{0}^{2}\\right) - y_{0}^{2}\\right)^{\\frac{3}{2}}\\right)^{2} \\left(b^{2} \\left(R_{eq}^{2} - x_{0}^{2}\\right) - y_{0}^{2}\\right)}{\\left(b^{2} \\left(R_{eq}^{2} + y_{0}^{2}\\right) - y_{0}^{2}\\right)^{3}}}}{R_{eq}}\\right)^{\\beta}$"
      ],
      "text/plain": [
       "T_pole*(b*sqrt((R_eq**6*b**8*y0**2 + b**2*x0**2*(R_eq**3*b**3 - omega**2*(b**2*(R_eq**2 + y0**2) - y0**2)**(3/2))**2 + (R_eq**3*b**3 - omega**2*(b**2*(R_eq**2 + y0**2) - y0**2)**(3/2))**2*(b**2*(R_eq**2 - x0**2) - y0**2))/(b**2*(R_eq**2 + y0**2) - y0**2)**3)/R_eq)**beta"
      ]
     },
     "execution_count": 92,
     "metadata": {},
     "output_type": "execute_result"
    }
   ],
   "source": [
    "T_simp"
   ]
  },
  {
   "cell_type": "markdown",
   "metadata": {},
   "source": [
    "Let's make the simplification of $R_{eq} = 1$ and $\\varphi = \\pi/2$ early because the math gets heinous from here on out. Also, let's substitute $x$ and $y$ for $x_0, y_0, z_0$. "
   ]
  },
  {
   "cell_type": "code",
   "execution_count": 93,
   "metadata": {},
   "outputs": [
    {
     "data": {
      "text/latex": [
       "$\\displaystyle T(x,y,\\varphi) = T_{pole} \\left(b \\sqrt{\\frac{b^{10} \\left(- x^{2} - y^{2} + 1\\right) + b^{2} x^{2} \\left(b^{3} - \\omega^{2} \\left(b^{2} \\left(b^{2} \\left(- x^{2} - y^{2} + 1\\right) + 1\\right) - b^{2} \\left(- x^{2} - y^{2} + 1\\right)\\right)^{\\frac{3}{2}}\\right)^{2} + \\left(b^{3} - \\omega^{2} \\left(b^{2} \\left(b^{2} \\left(- x^{2} - y^{2} + 1\\right) + 1\\right) - b^{2} \\left(- x^{2} - y^{2} + 1\\right)\\right)^{\\frac{3}{2}}\\right)^{2} \\left(b^{2} \\left(1 - x^{2}\\right) - b^{2} \\left(- x^{2} - y^{2} + 1\\right)\\right)}{\\left(b^{2} \\left(b^{2} \\left(- x^{2} - y^{2} + 1\\right) + 1\\right) - b^{2} \\left(- x^{2} - y^{2} + 1\\right)\\right)^{3}}}\\right)^{\\beta}$"
      ],
      "text/plain": [
       "<IPython.core.display.Math object>"
      ]
     },
     "metadata": {},
     "output_type": "display_data"
    }
   ],
   "source": [
    "T_rot = T_simp.subs([(x0,x),(y0,(y*cos(varphi) + (z_soln)*sin(varphi))),(z0,(-y*sin(varphi) + (z_soln)*cos(varphi)))])\n",
    "T_rot = T_rot.subs([(R_eq,1), (varphi, pi/2)])\n",
    "display(Math(r'T(x,y,\\varphi) = ' + latex(T_rot)))"
   ]
  },
  {
   "cell_type": "code",
   "execution_count": 94,
   "metadata": {},
   "outputs": [
    {
     "data": {
      "text/latex": [
       "$\\displaystyle T_{pole} \\left(x^{2} \\left(1 - \\omega^{2}\\right)^{2} - x^{2} + y^{2} \\left(1 - \\omega^{2}\\right)^{2} - y^{2} + 1\\right)^{\\frac{\\beta}{2}}$"
      ],
      "text/plain": [
       "T_pole*(x**2*(1 - omega**2)**2 - x**2 + y**2*(1 - omega**2)**2 - y**2 + 1)**(beta/2)"
      ]
     },
     "execution_count": 94,
     "metadata": {},
     "output_type": "execute_result"
    }
   ],
   "source": [
    "T_rot.subs([(b, 1)])"
   ]
  },
  {
   "cell_type": "code",
   "execution_count": 86,
   "metadata": {},
   "outputs": [],
   "source": [
    "alpha = sp.symbols(\"alpha\",real=True)\n",
    "T_rot_simp = simplify(T_rot.subs([(1-x**2-y**2, alpha)]))"
   ]
  },
  {
   "cell_type": "code",
   "execution_count": 87,
   "metadata": {},
   "outputs": [
    {
     "data": {
      "text/latex": [
       "$\\displaystyle T_{pole} \\left(b^{2} \\sqrt{\\frac{- \\alpha b^{2} - x^{2} \\left(- \\omega^{2} \\left(\\alpha b^{2} - \\alpha + 1\\right)^{\\frac{3}{2}} + 1\\right)^{2} + \\left(- \\omega^{2} \\left(\\alpha b^{2} - \\alpha + 1\\right)^{\\frac{3}{2}} + 1\\right)^{2} \\left(\\alpha + x^{2} - 1\\right)}{\\left(- \\alpha b^{2} + \\alpha - 1\\right)^{3}}}\\right)^{\\beta}$"
      ],
      "text/plain": [
       "T_pole*(b**2*sqrt((-alpha*b**2 - x**2*(-omega**2*(alpha*b**2 - alpha + 1)**(3/2) + 1)**2 + (-omega**2*(alpha*b**2 - alpha + 1)**(3/2) + 1)**2*(alpha + x**2 - 1))/(-alpha*b**2 + alpha - 1)**3))**beta"
      ]
     },
     "execution_count": 87,
     "metadata": {},
     "output_type": "execute_result"
    }
   ],
   "source": [
    "T_rot_simp"
   ]
  },
  {
   "cell_type": "code",
   "execution_count": 88,
   "metadata": {},
   "outputs": [
    {
     "data": {
      "text/latex": [
       "$\\displaystyle T_{pole} \\left(b^{2} \\sqrt{\\frac{- \\alpha b^{2} + \\left(\\alpha - 1\\right) \\left(- \\omega^{2} \\left(\\alpha b^{2} - \\alpha + 1\\right)^{\\frac{3}{2}} + 1\\right)^{2}}{\\left(- \\alpha b^{2} + \\alpha - 1\\right)^{3}}}\\right)^{\\beta}$"
      ],
      "text/plain": [
       "T_pole*(b**2*sqrt((-alpha*b**2 + (alpha - 1)*(-omega**2*(alpha*b**2 - alpha + 1)**(3/2) + 1)**2)/(-alpha*b**2 + alpha - 1)**3))**beta"
      ]
     },
     "execution_count": 88,
     "metadata": {},
     "output_type": "execute_result"
    }
   ],
   "source": [
    "T_rot_simp = collect(T_rot_simp, (-omega**2*sqrt(alpha*b**2 - alpha + 1)**3 + 1)**2)\n",
    "T_rot_simp"
   ]
  },
  {
   "cell_type": "code",
   "execution_count": 104,
   "metadata": {},
   "outputs": [],
   "source": [
    "Tpole = T_rot_simp.evalf(subs={alpha: 1, b:0.98,beta:0.22, omega:0.23, T_pole:7600})"
   ]
  },
  {
   "cell_type": "code",
   "execution_count": 101,
   "metadata": {},
   "outputs": [],
   "source": [
    "T_eq = T_rot_simp.evalf(subs={alpha: 0, b:0.98,beta:0.22, omega:0.23, T_pole:7600})"
   ]
  },
  {
   "cell_type": "code",
   "execution_count": 102,
   "metadata": {},
   "outputs": [
    {
     "data": {
      "text/latex": [
       "$\\displaystyle 7443.20789966145$"
      ],
      "text/plain": [
       "7443.20789966145"
      ]
     },
     "execution_count": 102,
     "metadata": {},
     "output_type": "execute_result"
    }
   ],
   "source": [
    "T_eq"
   ]
  },
  {
   "cell_type": "code",
   "execution_count": 105,
   "metadata": {},
   "outputs": [
    {
     "data": {
      "text/latex": [
       "$\\displaystyle 0.97936946048177$"
      ],
      "text/plain": [
       "0.979369460481770"
      ]
     },
     "execution_count": 105,
     "metadata": {},
     "output_type": "execute_result"
    }
   ],
   "source": [
    "T_eq/Tpole"
   ]
  },
  {
   "cell_type": "code",
   "execution_count": null,
   "metadata": {},
   "outputs": [],
   "source": []
  }
 ],
 "metadata": {
  "kernelspec": {
   "display_name": "Python 3",
   "language": "python",
   "name": "python3"
  },
  "language_info": {
   "codemirror_mode": {
    "name": "ipython",
    "version": 3
   },
   "file_extension": ".py",
   "mimetype": "text/x-python",
   "name": "python",
   "nbconvert_exporter": "python",
   "pygments_lexer": "ipython3",
   "version": "3.7.3"
  }
 },
 "nbformat": 4,
 "nbformat_minor": 4
}
